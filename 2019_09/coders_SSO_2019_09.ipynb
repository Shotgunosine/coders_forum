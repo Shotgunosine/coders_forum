{
 "cells": [
  {
   "cell_type": "markdown",
   "metadata": {},
   "source": [
    "### SSO with python requests\n",
    "\n",
    "### Overview\n",
    "\n",
    "The issue: Download information from a page that is behind a single sign on (SSO) login.\n",
    "\n",
    "\n",
    "SSO logins redirect a login in request to a secondary page and set a cookie, so you can't just submit the form on the page that you're accessing.\n",
    "\n",
    "Luckily, the python requests module opens a session, handles some of the redirects and cookies, which is pretty helpful.\n",
    "\n",
    "JWE\n",
    "\n",
    "References:\n",
    "https://brennan.io/2016/03/02/logging-in-with-requests/"
   ]
  },
  {
   "cell_type": "code",
   "execution_count": 18,
   "metadata": {},
   "outputs": [],
   "source": [
    "import requests, sys\n",
    "import lxml.html\n",
    "from getpass import getpass\n",
    "from requests.packages.urllib3.exceptions import InsecureRequestWarning"
   ]
  },
  {
   "cell_type": "markdown",
   "metadata": {},
   "source": [
    "As an example let's use the dicom server oxygen to download a test scan seesion tgz file\n",
    "\n",
    "First the server URL is the expected one, second we need to also know the redirected login page.  We can figure this out by searching through the page source of the page we're interested in logging into.\n",
    "\n",
    "document.getElementById('CredSelectorNotice').action = \"/siteminderagent/forms/login.fcc\";\n",
    "\n",
    "You find that the credentials option is submitted using submitForm(1)\n",
    "      var pwd = document.CredSelectorNotice.PASSWORD.value;\n",
    "      var user = document.CredSelectorNotice.USER.value;\n",
    "\n",
    "\n",
    "function submitForm(option)\n",
    "{\n",
    "   var nextyear = new Date();\n",
    "   nextyear.setFullYear(nextyear.getFullYear() + 1);\n",
    "   document.cookie = \"newuser=\"+document.getElementById('CredSelectorNotice').USER.value+\"; expires=\"+nextyear.toGMTString()+\"; path=/; domain=.nih.gov\";\n",
    "\n",
    "\n",
    "    //alert(document.CredSelectorNotice.loginradio[1].checked);\n",
    "    var browserName = \"\"; \n",
    "    var ua = navigator.userAgent.toLowerCase(); \n",
    "    var aspsessioncookie = getCookie('ASP.NET_SessionId');\n",
    "    \n",
    "    if(option == 1)\n",
    "    {\n",
    "      document.getElementById('CredSelectorNotice').method = 'POST';\n",
    "      document.getElementById('CredSelectorNotice').action = \"/siteminderagent/forms/login.fcc\";\n",
    "      var pwd = document.CredSelectorNotice.PASSWORD.value;\n",
    "      var user = document.CredSelectorNotice.USER.value;\n",
    "\t\tif( pwd == \"\" || user == \"\" )\n",
    "\t\t{\n",
    "          alert(\"Either provide userid and password or Login with PIV\");\n",
    "          return false;\n",
    "\t\t}\n",
    "    }\n",
    "\t\n",
    "    if(option == 2)\n",
    "    {\n",
    "        document.getElementById('CredSelectorNotice').method = \"GET\";\n",
    "\t\twindow.location.href = 'https://pivauth.nih.gov/CertAuthV2/forms/NIHPIVRedirector.aspx?TARGET='+document.CredSelectorNotice.target.value;\n",
    "\t\treturn false;        \n",
    "    }\n",
    "    document.getElementById('CredSelectorNotice').submit();  \n",
    "}\n"
   ]
  },
  {
   "cell_type": "markdown",
   "metadata": {},
   "source": [
    "Setup the URLS and session"
   ]
  },
  {
   "cell_type": "code",
   "execution_count": 19,
   "metadata": {},
   "outputs": [],
   "source": [
    "server_url = 'https://oxygen.nimh.nih.gov'\n",
    "login_url = 'https://auth.nih.gov/siteminderagent/forms/login.fcc'\n",
    "sess =  requests.session()\n",
    "requests.packages.urllib3.disable_warnings(InsecureRequestWarning)"
   ]
  },
  {
   "cell_type": "markdown",
   "metadata": {},
   "source": [
    "Start the session with the expected server URL to get the info to submit the form..."
   ]
  },
  {
   "cell_type": "code",
   "execution_count": 20,
   "metadata": {},
   "outputs": [
    {
     "name": "stdout",
     "output_type": "stream",
     "text": [
      "<Response [200]>\n"
     ]
    }
   ],
   "source": [
    "login_pg = sess.get(server_url,verify=False)\n",
    "print(login_pg)"
   ]
  },
  {
   "cell_type": "code",
   "execution_count": 21,
   "metadata": {},
   "outputs": [
    {
     "data": {
      "text/plain": [
       "'https://auth.nih.gov/CertAuthV2/forms/NIHPivOrFormLogin.aspx?TYPE=33554433&REALMOID=06-81e8087e-dc32-4a5b-b4d2-20c273621995&GUID=&SMAUTHREASON=0&METHOD=GET&SMAGENTNAME=-SM-XiCuuyDGKMMOOUnaJKYIe6yL2UoEhRiPJuN%2bcaFdEcyXo2cZd6hanhu%2fsVjPLLsz&TARGET=-SM-https%3a%2f%2foxygen.nimh.nih.gov%2f'"
      ]
     },
     "execution_count": 21,
     "metadata": {},
     "output_type": "execute_result"
    }
   ],
   "source": [
    "login_pg.url"
   ]
  },
  {
   "cell_type": "markdown",
   "metadata": {},
   "source": [
    "Notice that in the actual URL there is a lot of stuff after the base server name\n",
    "\n",
    "This stuff can be found in the \"hidden elements\" of the page.  Parse those out using lxml and update the form with the username and password variables before posting them.\n",
    "\n",
    "    <form method=\"post\" name=\"CredSelectorNotice\" id=\"CredSelectorNotice\">\n",
    "          <input type=\"hidden\" name=\"SMLOCALE\"             value=\"US-EN\"/>\n",
    "          <input type=\"hidden\" name=\"SMENC\"                value=\"ISO-8859-1\"/>\n",
    "          <input type=\"hidden\" name=\"smquerydata\"          value=\"\"/>\n",
    "          <input type=\"hidden\" name=\"smagentname\"          value=\"-SM-XiCuuyDGKMMOOUnaJKYIe6yL2UoEhRiPJuN+caFdEcyXo2cZd6hanhu/sVjPLLsz\"/>\n",
    "          <input type=\"hidden\" name=\"postpreservationdata\" value=\"\"/>\n",
    "          <input type=\"hidden\" name=\"target\"\t       value=\"-SM-https%3a%2f%2foxygen.nimh.nih.gov%2f\"/>\n",
    "          <input type=\"hidden\" name=\"minloa\" value=\"NIHIssuedLOA4\" />  "
   ]
  },
  {
   "cell_type": "code",
   "execution_count": 22,
   "metadata": {},
   "outputs": [
    {
     "name": "stdout",
     "output_type": "stream",
     "text": [
      "[<InputElement 7fbf285f10e8 name='SMLOCALE' type='hidden'>, <InputElement 7fbf2862f6d8 name='SMENC' type='hidden'>, <InputElement 7fbf2862f728 name='smquerydata' type='hidden'>, <InputElement 7fbf2862f318 name='smagentname' type='hidden'>, <InputElement 7fbf2862f4f8 name='postpreservationdata' type='hidden'>, <InputElement 7fbf2862f408 name='target' type='hidden'>, <InputElement 7fbf2862f7c8 name='minloa' type='hidden'>]\n",
      "Username: evansjw\n",
      "········\n"
     ]
    }
   ],
   "source": [
    "login_html = lxml.html.fromstring(login_pg.text)\n",
    "hidden_elements = login_html.xpath('//form//input[@type=\"hidden\"]')\n",
    "print(hidden_elements)\n",
    "form = {x.attrib['name']: x.attrib['value'] for x in hidden_elements}\n",
    "creds = {'USER':input('Username: '),'PASSWORD':getpass()}\n",
    "form.update(creds)\n",
    "tmp_pg = sess.post(login_url,data=form)\n",
    "del form\n",
    "del creds"
   ]
  },
  {
   "cell_type": "markdown",
   "metadata": {},
   "source": [
    "Once the form posts the session cookie is set and you you're ready to get what you were looking for.\n",
    "\n",
    "As an example, we can get the scan from a canary melon and its onion friend."
   ]
  },
  {
   "cell_type": "code",
   "execution_count": 23,
   "metadata": {},
   "outputs": [],
   "source": [
    "scanner = 'fmrif3td'\n",
    "scan_date = '2019_08_26' # format yyyy_mm_dd\n",
    "sub_name = 'MELON_CANARY' # format LAST_FIRST_MIDDLE\n",
    "sub_MRN = '00000000' # sys.argv[1]"
   ]
  },
  {
   "cell_type": "code",
   "execution_count": 24,
   "metadata": {},
   "outputs": [
    {
     "name": "stdout",
     "output_type": "stream",
     "text": [
      "https://oxygen.nimh.nih.gov/dicomData/userView/fmrif3td/2019_08_26/MELON_CANARY-00000000\n",
      "Getting 143861926 bytes of data in MELON_CANARY-00000000-20190826-00001-DICOM.tgz\n",
      "Saving MELON_CANARY-00000000-20190826-00001-DICOM.tgz\n"
     ]
    }
   ],
   "source": [
    "# look for tarFileSizes.txt\n",
    "dir_path = '/'.join([server_url,'dicomData/userView',scanner,scan_date,sub_name + '-' + sub_MRN])\n",
    "print(dir_path)\n",
    "try:\n",
    "   page = sess.get('/'.join([dir_path,'tarFileSizes.txt']),verify=False)\n",
    "   page.raise_for_status()\n",
    "   tmp = page.content.split()\n",
    "   tar_size = tmp[0].decode(\"utf-8\")\n",
    "   tar_fn =tmp[2].decode(\"utf-8\")\n",
    "   print(f'Getting {tar_size} bytes of data in {tar_fn}')\n",
    "   # get data\n",
    "   tar_dat = sess.get('/'.join([dir_path,tar_fn]) ,verify=False)\n",
    "\n",
    "   print(f'Saving {tar_fn}')\n",
    "   # save data\n",
    "   open(tar_fn, 'wb').write(tar_dat.content)\n",
    "\n",
    "except requests.exceptions.HTTPError as err:\n",
    "   #print(err)\n",
    "   print('No data for subject')"
   ]
  }
 ],
 "metadata": {
  "kernelspec": {
   "display_name": "Python 3",
   "language": "python",
   "name": "python3"
  },
  "language_info": {
   "codemirror_mode": {
    "name": "ipython",
    "version": 3
   },
   "file_extension": ".py",
   "mimetype": "text/x-python",
   "name": "python",
   "nbconvert_exporter": "python",
   "pygments_lexer": "ipython3",
   "version": "3.7.3"
  }
 },
 "nbformat": 4,
 "nbformat_minor": 2
}
