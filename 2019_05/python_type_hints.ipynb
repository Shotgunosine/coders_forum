{
 "cells": [
  {
   "cell_type": "markdown",
   "metadata": {},
   "source": [
    "## Basic overview"
   ]
  },
  {
   "cell_type": "code",
   "execution_count": null,
   "metadata": {},
   "outputs": [],
   "source": [
    "+ What is a type\n",
    "+ Dynamic types in python, the good and the bad.\n",
    "+ "
   ]
  },
  {
   "cell_type": "code",
   "execution_count": null,
   "metadata": {},
   "outputs": [],
   "source": []
  },
  {
   "cell_type": "code",
   "execution_count": null,
   "metadata": {},
   "outputs": [],
   "source": []
  },
  {
   "cell_type": "code",
   "execution_count": null,
   "metadata": {},
   "outputs": [],
   "source": []
  },
  {
   "cell_type": "markdown",
   "metadata": {},
   "source": [
    "## References"
   ]
  },
  {
   "cell_type": "markdown",
   "metadata": {},
   "source": [
    "+ [A nice writeup](https://www.bernat.tech/the-state-of-type-hints-in-python/)\n",
    "+ [RealPython type checking](https://realpython.com/python-type-checking/)\n",
    "+ [Mypy cheatsheet](https://mypy.readthedocs.io/en/latest/cheat_sheet_py3.html)\n",
    "+ Python 2: [PEP484](https://www.python.org/dev/peps/pep-0484/) and for python 3, function annotations [PEP3107](https://www.python.org/dev/peps/pep-3107/) and variable annotations [PEP 526](https://www.python.org/dev/peps/pep-0526/) (python 3.6)\n",
    "+ More recent changes for runtime tweaks in [PEP 563](https://www.python.org/dev/peps/pep-0563/)\n",
    "+ [Python docs on typing](https://docs.python.org/3/library/typing.html)"
   ]
  },
  {
   "cell_type": "code",
   "execution_count": null,
   "metadata": {},
   "outputs": [],
   "source": []
  }
 ],
 "metadata": {
  "kernelspec": {
   "display_name": "Python 3",
   "language": "python",
   "name": "python3"
  },
  "language_info": {
   "codemirror_mode": {
    "name": "ipython",
    "version": 3
   },
   "file_extension": ".py",
   "mimetype": "text/x-python",
   "name": "python",
   "nbconvert_exporter": "python",
   "pygments_lexer": "ipython3",
   "version": "3.6.7"
  }
 },
 "nbformat": 4,
 "nbformat_minor": 2
}
