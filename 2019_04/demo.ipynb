{
 "cells": [
  {
   "cell_type": "markdown",
   "metadata": {},
   "source": [
    "hello"
   ]
  },
  {
   "cell_type": "markdown",
   "metadata": {},
   "source": [
    "# References\n",
    "\n",
    "+ Associated scratchpad [here](https://docs.google.com/document/d/1ocrq-v7jm3exNSgxgpJxXSx83Q-QR6L1faBA0ciPJ8I/edit?usp=sharing)\n",
    "+ Topics [here](https://docs.google.com/document/d/13q61Xj0J1JbFwYZAcjiyVnDRAkrHkjgttJwFmsaATTI/edit?usp=sharing)\n",
    "\n",
    "+ [Rebasing](https://git-scm.com/docs/git-rebase)\n",
    "+ [learn git branching](https://learngitbranching.js.org)\n",
    "\n",
    "+ Configuring git editor:\n",
    "    * All the [editors](https://swcarpentry.github.io/git-novice/02-setup/index.html)\n",
    "    * In case more [help is needed](https://www.kevinkuszyk.com/2016/03/08/git-tips-2-change-editor-for-interactive-git-rebase/)\n",
    "    \n",
    "+ Many tools for working with git. Gitkraken is a nice one.\n",
    "\n",
    "\n",
    "Typing references\n",
    "[Python docs](https://docs.python.org/3/library/typing.html)\n",
    "[PEP](https://www.python.org/dev/peps/pep-0484/#non-goals)"
   ]
  }
 ],
 "metadata": {
  "kernelspec": {
   "display_name": "Python 3",
   "language": "python",
   "name": "python3"
  },
  "language_info": {
   "codemirror_mode": {
    "name": "ipython",
    "version": 3
   },
   "file_extension": ".py",
   "mimetype": "text/x-python",
   "name": "python",
   "nbconvert_exporter": "python",
   "pygments_lexer": "ipython3",
   "version": "3.6.7"
  }
 },
 "nbformat": 4,
 "nbformat_minor": 2
}
